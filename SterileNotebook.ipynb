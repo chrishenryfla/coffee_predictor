{
 "cells": [
  {
   "cell_type": "code",
   "execution_count": 3,
   "id": "ceaf7bf0",
   "metadata": {},
   "outputs": [],
   "source": [
    "import os\n",
    "#os.chdir(\"/Users/christianhenry/Dropbox/PostDoc/Data Incubator/Capstone/Coffee Quality/InputData\")"
   ]
  },
  {
   "cell_type": "markdown",
   "id": "8d7ad822",
   "metadata": {},
   "source": [
    "**10 Models to choose from with combinations of 2 or 3 features:**\n",
    "\n",
    "*Combinations of 2*\n",
    "\n",
    "    model_Aroma_Acidity_1.pkl\n",
    "    model_Aroma_Body_2.pkl\n",
    "    model_Aroma_Balance_3.pkl\n",
    "    model_Acidity_Body_4.pkl\n",
    "    model_Acidity_Balance_5.pkl\n",
    "    model_Body_Balance_6.pkl\n",
    "\n",
    "*Combinations of 3*\n",
    "\n",
    "    model_Aroma_Acidity_Body_1.pkl\n",
    "    model_Aroma_Acidity_Balance_2.pkl\n",
    "    model_Aroma_Body_Balance_3.pkl\n",
    "    model_Acidity_Body_Balance_4.pkl"
   ]
  },
  {
   "cell_type": "code",
   "execution_count": 21,
   "id": "126b3da5",
   "metadata": {},
   "outputs": [],
   "source": [
    "#Load the selected model\n",
    "import joblib\n",
    "modelname = 'model_Acidity_Body_Balance_4.pkl'\n",
    "model = joblib.load(modelname)"
   ]
  },
  {
   "cell_type": "code",
   "execution_count": 22,
   "id": "239ba56c",
   "metadata": {},
   "outputs": [
    {
     "data": {
      "text/plain": [
       "Pipeline(steps=[('preprocessor',\n",
       "                 ColumnTransformer(transformers=[('num',\n",
       "                                                  Pipeline(steps=[('scaler',\n",
       "                                                                   StandardScaler())]),\n",
       "                                                  ['Acidity', 'Body',\n",
       "                                                   'Balance']),\n",
       "                                                 ('cat',\n",
       "                                                  Pipeline(steps=[('onehot',\n",
       "                                                                   OneHotEncoder(handle_unknown='ignore'))]),\n",
       "                                                  ['CountryOfOrigin'])])),\n",
       "                ('regressor', LinearRegression())])"
      ]
     },
     "execution_count": 22,
     "metadata": {},
     "output_type": "execute_result"
    }
   ],
   "source": [
    "model"
   ]
  },
  {
   "cell_type": "code",
   "execution_count": 7,
   "id": "228887d8",
   "metadata": {},
   "outputs": [],
   "source": [
    "#Provide values for each feature for the selected model, including a Country of origin\n",
    "import pandas as pd\n",
    "\n",
    "data = {\n",
    "    'Balance': 7.6,\n",
    "    'Acidity': 8,\n",
    "    'Body': 7.3,\n",
    "    'CountryOfOrigin': ['Country1']\n",
    "}\n",
    "\n",
    "# Create a DataFrame from the dictionary\n",
    "df = pd.DataFrame(data)"
   ]
  },
  {
   "cell_type": "code",
   "execution_count": 19,
   "id": "9b9e62a3",
   "metadata": {},
   "outputs": [
    {
     "name": "stdout",
     "output_type": "stream",
     "text": [
      "[7.70633718]\n"
     ]
    }
   ],
   "source": [
    "#Make predictions based on selected model\n",
    "y_pred = model.predict(df)\n",
    "print(y_pred)"
   ]
  }
 ],
 "metadata": {
  "kernelspec": {
   "display_name": "Python 3 (ipykernel)",
   "language": "python",
   "name": "python3"
  },
  "language_info": {
   "codemirror_mode": {
    "name": "ipython",
    "version": 3
   },
   "file_extension": ".py",
   "mimetype": "text/x-python",
   "name": "python",
   "nbconvert_exporter": "python",
   "pygments_lexer": "ipython3",
   "version": "3.9.13"
  }
 },
 "nbformat": 4,
 "nbformat_minor": 5
}
